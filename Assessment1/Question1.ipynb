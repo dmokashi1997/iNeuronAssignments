{
 "cells": [
  {
   "cell_type": "code",
   "execution_count": 1,
   "id": "62f419dc",
   "metadata": {},
   "outputs": [
    {
     "name": "stdout",
     "output_type": "stream",
     "text": [
      " Volume in drive C is Windows\n",
      " Volume Serial Number is BAE4-F5CA\n",
      "\n",
      " Directory of C:\\Users\\Dhanashree Mokashi\\Desktop\\iNeuronAssessment1\n",
      "\n",
      "13-06-2022  11:40    <DIR>          .\n",
      "13-06-2022  10:58    <DIR>          ..\n",
      "13-06-2022  11:17    <DIR>          .ipynb_checkpoints\n",
      "13-06-2022  11:40                29 MyDoc.txt\n",
      "13-06-2022  11:40             3,154 Question1.ipynb\n",
      "               2 File(s)          3,183 bytes\n",
      "               3 Dir(s)  426,140,389,376 bytes free\n"
     ]
    }
   ],
   "source": [
    "ls"
   ]
  },
  {
   "cell_type": "code",
   "execution_count": 2,
   "id": "80abe2e7",
   "metadata": {},
   "outputs": [],
   "source": [
    "def replaceWord(fileName,oldWord,newWord):\n",
    "    try:\n",
    "        openFile=open(fileName,\"r\")\n",
    "        data=openFile.readline()\n",
    "        if (data.find(oldWord)==-1):\n",
    "            print(\"Word doesnt exist!!\")\n",
    "        else:\n",
    "            writeString=data.replace(oldWord,newWord)\n",
    "            open(\"MyDoc.txt\",\"w\").write(writeString)\n",
    "    except Exception:\n",
    "        print(\"Exception occured : File not found !!\")\n",
    "   \n",
    "replaceWord(\"MyDoc.txt\",\"placement\",\"screening\") # please provide file name with extension."
   ]
  },
  {
   "cell_type": "code",
   "execution_count": null,
   "id": "4df08592",
   "metadata": {},
   "outputs": [],
   "source": []
  }
 ],
 "metadata": {
  "kernelspec": {
   "display_name": "Python 3 (ipykernel)",
   "language": "python",
   "name": "python3"
  },
  "language_info": {
   "codemirror_mode": {
    "name": "ipython",
    "version": 3
   },
   "file_extension": ".py",
   "mimetype": "text/x-python",
   "name": "python",
   "nbconvert_exporter": "python",
   "pygments_lexer": "ipython3",
   "version": "3.10.2"
  }
 },
 "nbformat": 4,
 "nbformat_minor": 5
}
