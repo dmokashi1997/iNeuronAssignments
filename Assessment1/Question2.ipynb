{
 "cells": [
  {
   "cell_type": "code",
   "execution_count": 1,
   "id": "7f22c296",
   "metadata": {},
   "outputs": [
    {
     "name": "stdout",
     "output_type": "stream",
     "text": [
      "Hi according to your inputs , Area of square with side 2 is 4\n",
      "Hi according to your inputs , Perimeter of square  is 19\n"
     ]
    }
   ],
   "source": [
    "def decorator1():\n",
    "    print(\"Hi according to your inputs , \",end=\"\")\n",
    "    \n",
    "    \n",
    "class area:\n",
    "    def areaOfSquare(self,side):\n",
    "       # side=3\n",
    "        decorator1()\n",
    "        print(\"Area of square with side {s} is {area}\".format(s=side,area=side**2))\n",
    "        \n",
    "class perimeter:\n",
    "    def perimeterOfTriangle(self,side1,side2,side3):\n",
    "        decorator1()\n",
    "        print(\"Perimeter of square  is {p}\".format(p=(side1+side2+side3)))\n",
    "        \n",
    "class triangle(area,perimeter):\n",
    "    pass\n",
    "\n",
    "\n",
    "t=triangle()\n",
    "t.areaOfSquare(2)\n",
    "t.perimeterOfTriangle(6,6,7)"
   ]
  },
  {
   "cell_type": "code",
   "execution_count": null,
   "id": "4cd46c18",
   "metadata": {},
   "outputs": [],
   "source": []
  }
 ],
 "metadata": {
  "kernelspec": {
   "display_name": "Python 3 (ipykernel)",
   "language": "python",
   "name": "python3"
  },
  "language_info": {
   "codemirror_mode": {
    "name": "ipython",
    "version": 3
   },
   "file_extension": ".py",
   "mimetype": "text/x-python",
   "name": "python",
   "nbconvert_exporter": "python",
   "pygments_lexer": "ipython3",
   "version": "3.10.2"
  }
 },
 "nbformat": 4,
 "nbformat_minor": 5
}
