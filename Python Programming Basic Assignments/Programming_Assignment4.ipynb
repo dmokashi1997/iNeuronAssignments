{
 "cells": [
  {
   "cell_type": "code",
   "execution_count": 63,
   "id": "cb322f54",
   "metadata": {},
   "outputs": [
    {
     "name": "stdout",
     "output_type": "stream",
     "text": [
      "factorial of given number :  24\n"
     ]
    }
   ],
   "source": [
    "##WAP to  Find the Factorial of a Number?\n",
    "\n",
    "def factorial(n):\n",
    "    if n==1:\n",
    "        return 1\n",
    "    fact=n*factorial(n-1)\n",
    "    return fact\n",
    "print(\"factorial of given number : \",factorial(4))"
   ]
  },
  {
   "cell_type": "code",
   "execution_count": 3,
   "id": "266c4853",
   "metadata": {},
   "outputs": [
    {
     "name": "stdout",
     "output_type": "stream",
     "text": [
      "9\n",
      "18\n",
      "27\n",
      "36\n",
      "45\n",
      "54\n",
      "63\n",
      "72\n",
      "81\n",
      "90\n"
     ]
    }
   ],
   "source": [
    "## WAP to Display the multiplication Table?\n",
    "def multable(number):\n",
    "    for i in range(1,11):\n",
    "        print(number*i)\n",
    "        \n",
    "multable(9)\n"
   ]
  },
  {
   "cell_type": "code",
   "execution_count": 62,
   "id": "92992e38",
   "metadata": {},
   "outputs": [
    {
     "name": "stdout",
     "output_type": "stream",
     "text": [
      "Fibonacci sequence 10\n",
      "Fibonacci sequence 15\n",
      "Fibonacci sequence 21\n"
     ]
    }
   ],
   "source": [
    "## Program to Print the Fibonacci sequence?\n",
    "def fibonacci(n):\n",
    "    if n==1:\n",
    "        return 1\n",
    "    sum=n+fibonacci(n-1)\n",
    "    return sum\n",
    "\n",
    "print(\"Fibonacci sequence\",fibonacci(4))\n",
    "print(\"Fibonacci sequence\",fibonacci(5))\n",
    "print(\"Fibonacci sequence\",fibonacci(6))\n",
    "\n"
   ]
  },
  {
   "cell_type": "code",
   "execution_count": 58,
   "id": "dedde3c1",
   "metadata": {},
   "outputs": [
    {
     "name": "stdout",
     "output_type": "stream",
     "text": [
      "Given number is the armstrong number\n"
     ]
    }
   ],
   "source": [
    "## WAP to Check Armstrong Number?\n",
    "import math\n",
    "def armStrong(number):\n",
    "    cube1=0\n",
    "    flag=False\n",
    "    for i in str(number):\n",
    "        cube1+=(math.pow(int(i),len(str(number))))\n",
    "    if cube1==number:\n",
    "        flag=True\n",
    "    return flag\n",
    "\n",
    "flag=armStrong(1634)\n",
    "#flag=armStrong(1635)\n",
    "if flag==True:\n",
    "    print(\"Given number is the armstrong number\")\n",
    "else:\n",
    "    print(\"Given number is not armstrong\")\n"
   ]
  },
  {
   "cell_type": "code",
   "execution_count": 65,
   "id": "06946fd5",
   "metadata": {},
   "outputs": [
    {
     "name": "stdout",
     "output_type": "stream",
     "text": [
      "153 is the armstrong number\n"
     ]
    }
   ],
   "source": [
    "## WAP to Find Armstrong Number in an Interval\n",
    "def armStrongInterval(start,end):\n",
    "    for i in range(start,end+1):\n",
    "        flag=armStrong(i)\n",
    "        if flag==True:\n",
    "            print(\"{0} is the armstrong number\".format(i))\n",
    "\n",
    "armStrongInterval(100,170)"
   ]
  },
  {
   "cell_type": "code",
   "execution_count": 59,
   "id": "238f9e54",
   "metadata": {},
   "outputs": [
    {
     "name": "stdout",
     "output_type": "stream",
     "text": [
      "Sum of n natural nos :  28.0\n"
     ]
    }
   ],
   "source": [
    "## WAP to Find the Sum of Natural Numbers\n",
    "\n",
    "def sumOfNaturalNos(n):\n",
    "    return (n*(n-1))/2\n",
    "\n",
    "print(\"Sum of n natural nos : \",sumOfNaturalNos(8))"
   ]
  }
 ],
 "metadata": {
  "kernelspec": {
   "display_name": "Python 3 (ipykernel)",
   "language": "python",
   "name": "python3"
  },
  "language_info": {
   "codemirror_mode": {
    "name": "ipython",
    "version": 3
   },
   "file_extension": ".py",
   "mimetype": "text/x-python",
   "name": "python",
   "nbconvert_exporter": "python",
   "pygments_lexer": "ipython3",
   "version": "3.10.2"
  }
 },
 "nbformat": 4,
 "nbformat_minor": 5
}
