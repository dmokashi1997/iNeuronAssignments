{
 "cells": [
  {
   "cell_type": "code",
   "execution_count": null,
   "id": "bb1b70e8",
   "metadata": {},
   "outputs": [],
   "source": [
    "## WAP to print 'Hello Python'"
   ]
  },
  {
   "cell_type": "code",
   "execution_count": 1,
   "id": "a8d643a7",
   "metadata": {},
   "outputs": [
    {
     "name": "stdout",
     "output_type": "stream",
     "text": [
      "Hello Python\n"
     ]
    }
   ],
   "source": [
    "print(\"Hello Python\")"
   ]
  },
  {
   "cell_type": "code",
   "execution_count": null,
   "id": "9cf1fead",
   "metadata": {},
   "outputs": [],
   "source": [
    "## WAP to do arithmetical operations addition and division.?"
   ]
  },
  {
   "cell_type": "code",
   "execution_count": 21,
   "id": "09a127ce",
   "metadata": {},
   "outputs": [
    {
     "name": "stdout",
     "output_type": "stream",
     "text": [
      "Addition :  18\n",
      "Division :  5.0\n",
      "ZeroDivisionError\n"
     ]
    }
   ],
   "source": [
    "def add(a,b):\n",
    "    print(\"Addition : \",a+b) \n",
    "\n",
    "def div(a,b):\n",
    "    try:\n",
    "        print(\"Division : \",a/b)\n",
    "    except Exception as e:\n",
    "        print(\"ZeroDivisionError\")\n",
    "    \n",
    "add(9,9) \n",
    "div(15,3)\n",
    "div(9,0)"
   ]
  },
  {
   "cell_type": "code",
   "execution_count": null,
   "id": "905c10bd",
   "metadata": {},
   "outputs": [],
   "source": [
    "## WAP to find the area of a triangle?"
   ]
  },
  {
   "cell_type": "code",
   "execution_count": 22,
   "id": "41c9f177",
   "metadata": {},
   "outputs": [
    {
     "name": "stdout",
     "output_type": "stream",
     "text": [
      "Area of triangle is :  4.5\n"
     ]
    }
   ],
   "source": [
    "def areaOfTriangle(length,height):\n",
    "    return 0.5*length*height\n",
    "     \n",
    "area=areaOfTriangle(3,3)\n",
    "print(\"Area of triangle is : \",area)"
   ]
  },
  {
   "cell_type": "code",
   "execution_count": null,
   "id": "21d41a80",
   "metadata": {},
   "outputs": [],
   "source": [
    "## WAP tp swap two variables"
   ]
  },
  {
   "cell_type": "code",
   "execution_count": 25,
   "id": "84e2a2fe",
   "metadata": {},
   "outputs": [
    {
     "name": "stdout",
     "output_type": "stream",
     "text": [
      "Before swapping :  (2, 3)\n",
      "After swapping :  (3, 2)\n"
     ]
    }
   ],
   "source": [
    "def swapNumbers(a,b):\n",
    "    print(\"Before swapping : \",(a,b))\n",
    "    temp=a\n",
    "    a=b\n",
    "    b=temp\n",
    "    return a,b\n",
    "\n",
    "print(\"After swapping : \" , swapNumbers(2,3))"
   ]
  },
  {
   "cell_type": "code",
   "execution_count": null,
   "id": "8c8f3e61",
   "metadata": {},
   "outputs": [],
   "source": [
    "## WAP to generate a random number"
   ]
  },
  {
   "cell_type": "code",
   "execution_count": 30,
   "id": "7b63cac4",
   "metadata": {},
   "outputs": [
    {
     "name": "stdout",
     "output_type": "stream",
     "text": [
      "Random Number :  0.24786837175948795\n"
     ]
    }
   ],
   "source": [
    "import random\n",
    "print(\"Random Number : \",random.random())"
   ]
  }
 ],
 "metadata": {
  "kernelspec": {
   "display_name": "Python 3 (ipykernel)",
   "language": "python",
   "name": "python3"
  },
  "language_info": {
   "codemirror_mode": {
    "name": "ipython",
    "version": 3
   },
   "file_extension": ".py",
   "mimetype": "text/x-python",
   "name": "python",
   "nbconvert_exporter": "python",
   "pygments_lexer": "ipython3",
   "version": "3.10.2"
  }
 },
 "nbformat": 4,
 "nbformat_minor": 5
}
