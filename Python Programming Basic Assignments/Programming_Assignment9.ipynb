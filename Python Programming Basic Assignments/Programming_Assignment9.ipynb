{
 "cells": [
  {
   "cell_type": "markdown",
   "id": "7ece5b41",
   "metadata": {},
   "source": [
    "1. Write a Python program to check if the given number is a Disarium Number?\n",
    "2. Write a Python program to print all disarium numbers between 1 to 100?\n",
    "3. Write a Python program to check if the given number is Happy Number?\n",
    "4. Write a Python program to print all happy numbers between 1 and 100?\n",
    "5. Write a Python program to determine whether the given number is a Harshad Number?\n",
    "6. Write a Python program to print all pronic numbers between 1 and 100?"
   ]
  },
  {
   "cell_type": "code",
   "execution_count": 14,
   "id": "c0751ece",
   "metadata": {},
   "outputs": [
    {
     "name": "stdout",
     "output_type": "stream",
     "text": [
      "Yes its a Disarium Number\n"
     ]
    }
   ],
   "source": [
    "# Write a Python program to check if the given number is a Disarium Number?\n",
    "s=int(175)\n",
    "ss=str(s)   #175\n",
    "sum=0\n",
    "for i in range(0,len(ss)):\n",
    "    sum+=int(ss[i])**(i+1)\n",
    "\n",
    "if(sum==s):\n",
    "    print(\"Yes its a Disarium Number\")\n",
    "else:\n",
    "    print(\"No its not a Disarium Number\")\n",
    "    "
   ]
  },
  {
   "cell_type": "code",
   "execution_count": 9,
   "id": "a5542795",
   "metadata": {},
   "outputs": [
    {
     "name": "stdout",
     "output_type": "stream",
     "text": [
      "List of disarium numbers between 1 to 100\n",
      "--------------------------------------------------------\n"
     ]
    },
    {
     "data": {
      "text/plain": [
       "[1, 2, 3, 4, 5, 6, 7, 8, 9, 89]"
      ]
     },
     "execution_count": 9,
     "metadata": {},
     "output_type": "execute_result"
    }
   ],
   "source": [
    "# Write a Python program to print all disarium numbers between 1 to 100?\n",
    "\n",
    "l=[]\n",
    "for i in range(1,101):\n",
    "    sum=0\n",
    "    i=str(i)\n",
    "    for j in range(0,len(i)):\n",
    "        sum+=int(i[j])**(j+1)\n",
    "        if(sum==int(i)):\n",
    "            l.append(int(i))\n",
    "            \n",
    "print(\"List of disarium numbers between 1 to 100\") \n",
    "print(\"--------------------------------------------------------\")\n",
    "l"
   ]
  },
  {
   "cell_type": "code",
   "execution_count": 62,
   "id": "3fbbb673",
   "metadata": {},
   "outputs": [
    {
     "name": "stdout",
     "output_type": "stream",
     "text": [
      "not a happy number\n"
     ]
    }
   ],
   "source": [
    "# Write a Python program to check if the given number is Happy Number?\n",
    "n=4\n",
    "flag=0\n",
    "c=n\n",
    "type(n)\n",
    "while(n!=1):#13#10\n",
    "    sum=0\n",
    "    n=str(n)#str13#str10\n",
    "    for i in n:#13#10\n",
    "        sum+=int(i)**2 #13--10#10--1\n",
    "    n=sum\n",
    "    if n==1:\n",
    "        flag=1 \n",
    "    elif c==n:\n",
    "        break           \n",
    "if flag==1 or n==1:\n",
    "    print(\"happy number\")\n",
    "else:\n",
    "    print(\"not a happy number\")\n",
    "    \n"
   ]
  },
  {
   "cell_type": "code",
   "execution_count": 68,
   "id": "09439d24",
   "metadata": {},
   "outputs": [
    {
     "name": "stdout",
     "output_type": "stream",
     "text": [
      "Not a harshad number\n"
     ]
    }
   ],
   "source": [
    "# Write a Python program to determine whether the given number is a Harshad Number?\n",
    "n=99\n",
    "sum=0\n",
    "nn=str(n)\n",
    "for i in nn:\n",
    "    sum+=int(i)\n",
    "if n%sum==0:\n",
    "    print(\"Harshad number\")\n",
    "else:\n",
    "    print(\"Not a harshad number\")\n",
    "    "
   ]
  },
  {
   "cell_type": "code",
   "execution_count": 77,
   "id": "87a5d9f4",
   "metadata": {},
   "outputs": [
    {
     "data": {
      "text/plain": [
       "[1, 2, 3, 4, 5, 6, 7, 8, 9]"
      ]
     },
     "execution_count": 77,
     "metadata": {},
     "output_type": "execute_result"
    }
   ],
   "source": [
    "#Write a Python program to print all pronic numbers between 1 and 100?\n",
    "l=[]\n",
    "for i in range (1,101):\n",
    "    for j in range(1,101):\n",
    "        if(j*(j+1)==i):\n",
    "            l.append(i)\n",
    "for i in l:\n",
    "    print(i)\n"
   ]
  },
  {
   "cell_type": "code",
   "execution_count": null,
   "id": "6d12c75c",
   "metadata": {},
   "outputs": [],
   "source": []
  }
 ],
 "metadata": {
  "kernelspec": {
   "display_name": "Python 3 (ipykernel)",
   "language": "python",
   "name": "python3"
  },
  "language_info": {
   "codemirror_mode": {
    "name": "ipython",
    "version": 3
   },
   "file_extension": ".py",
   "mimetype": "text/x-python",
   "name": "python",
   "nbconvert_exporter": "python",
   "pygments_lexer": "ipython3",
   "version": "3.10.2"
  }
 },
 "nbformat": 4,
 "nbformat_minor": 5
}
