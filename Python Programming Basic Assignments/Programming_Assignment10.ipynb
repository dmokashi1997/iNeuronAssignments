{
 "cells": [
  {
   "cell_type": "markdown",
   "id": "eb36e680",
   "metadata": {},
   "source": [
    "1. Write a Python program to find sum of elements in list?\n",
    "2. Write a Python program to Multiply all numbers in the list?\n",
    "3. Write a Python program to find smallest number in a list?\n",
    "4. Write a Python program to find largest number in a list?\n",
    "5. Write a Python program to find second largest number in a list?\n",
    "6. Write a Python program to find N largest elements from a list?\n",
    "7. Write a Python program to print even numbers in a list?\n",
    "8. Write a Python program to print odd numbers in a List?\n",
    "9. Write a Python program to Remove empty List from List?\n",
    "10. Write a Python program to Cloning or Copying a list?\n",
    "11. Write a Python program to Count occurrences of an element in a list?"
   ]
  },
  {
   "cell_type": "code",
   "execution_count": 3,
   "id": "cb077a81",
   "metadata": {},
   "outputs": [
    {
     "name": "stdout",
     "output_type": "stream",
     "text": [
      "sum of elements from list is :  25\n"
     ]
    }
   ],
   "source": [
    "# Write a Python program to find sum of elements in list?\n",
    "l=[1,6,7,3,8]\n",
    "print(\"sum of elements from list is : \",sum(l))"
   ]
  },
  {
   "cell_type": "code",
   "execution_count": 7,
   "id": "296b767a",
   "metadata": {},
   "outputs": [
    {
     "name": "stdout",
     "output_type": "stream",
     "text": [
      "multiplication of elements from list is :  1008\n"
     ]
    }
   ],
   "source": [
    "#Write a Python program to Multiply all numbers in the list?\n",
    "l=[1,6,7,3,8]\n",
    "mul=1\n",
    "for i in l:\n",
    "    mul*=i\n",
    "    \n",
    "print(\"multiplication of elements from list is : \",mul)"
   ]
  },
  {
   "cell_type": "code",
   "execution_count": 8,
   "id": "d0eece73",
   "metadata": {},
   "outputs": [
    {
     "name": "stdout",
     "output_type": "stream",
     "text": [
      "Smallest number from list :  1\n"
     ]
    }
   ],
   "source": [
    "#Write a Python program to find smallest number in a list?\n",
    "print(\"Smallest number from list : \",min(l))"
   ]
  },
  {
   "cell_type": "code",
   "execution_count": 9,
   "id": "e8230d37",
   "metadata": {},
   "outputs": [
    {
     "name": "stdout",
     "output_type": "stream",
     "text": [
      "largest number from list :  8\n"
     ]
    }
   ],
   "source": [
    "#Write a Python program to find second largest number in a list?\n",
    "print(\"largest number from list : \",max(l))"
   ]
  },
  {
   "cell_type": "code",
   "execution_count": 16,
   "id": "53bb38a5",
   "metadata": {},
   "outputs": [
    {
     "name": "stdout",
     "output_type": "stream",
     "text": [
      "3 largest number from list is : 6 \n"
     ]
    }
   ],
   "source": [
    "# Write a Python program to find N largest elements from a list?\n",
    "l.sort(reverse=True)\n",
    "n=3\n",
    "print(\"{a} largest number from list is : {b} \".format(a=n,b=l[n-1]))"
   ]
  },
  {
   "cell_type": "code",
   "execution_count": 19,
   "id": "4bf602fd",
   "metadata": {},
   "outputs": [
    {
     "data": {
      "text/plain": [
       "[8, 6]"
      ]
     },
     "execution_count": 19,
     "metadata": {},
     "output_type": "execute_result"
    }
   ],
   "source": [
    "#Write a Python program to print even numbers in a list?\n",
    "evenList=[]\n",
    "for i in l:\n",
    "    if i%2==0:\n",
    "        evenList.append(i)\n",
    "    else:\n",
    "        continue\n",
    "evenList"
   ]
  },
  {
   "cell_type": "code",
   "execution_count": 20,
   "id": "cf5e3a4e",
   "metadata": {},
   "outputs": [
    {
     "data": {
      "text/plain": [
       "[7, 3, 1]"
      ]
     },
     "execution_count": 20,
     "metadata": {},
     "output_type": "execute_result"
    }
   ],
   "source": [
    "#Write a Python program to print odd numbers in a List?\n",
    "oddList=[]\n",
    "for i in l:\n",
    "    if i%2!=0:\n",
    "        oddList.append(i)\n",
    "    else:\n",
    "        continue\n",
    "oddList"
   ]
  },
  {
   "cell_type": "code",
   "execution_count": 46,
   "id": "bb2649ed",
   "metadata": {},
   "outputs": [
    {
     "name": "stdout",
     "output_type": "stream",
     "text": [
      "inside len\n",
      "inside len\n"
     ]
    },
    {
     "data": {
      "text/plain": [
       "[['aa', 'b', 'r'], [4, 5, 'd', 'g'], [3], 5, 6, 7]"
      ]
     },
     "execution_count": 46,
     "metadata": {},
     "output_type": "execute_result"
    }
   ],
   "source": [
    "# Write a Python program to Remove empty List from List?\n",
    "listOfList=[['aa','b','r'],[],[4,5,'d','g'],[],[3],5,6,7]\n",
    "for i in listOfList:\n",
    "    if str(type(i))==\"<class 'list'>\":\n",
    "        if len(i)==0:\n",
    "            print(\"inside len\")\n",
    "            listOfList.remove(i)\n",
    "listOfList"
   ]
  },
  {
   "cell_type": "code",
   "execution_count": 52,
   "id": "a2f21cc8",
   "metadata": {},
   "outputs": [
    {
     "data": {
      "text/plain": [
       "[1, 2, 4, 2, 7, 4, 3]"
      ]
     },
     "execution_count": 52,
     "metadata": {},
     "output_type": "execute_result"
    }
   ],
   "source": [
    "#Write a Python program to Cloning or Copying a list?\n",
    "originalList=[1,2,4,2,7,4,3]\n",
    "copyList=originalList.copy()\n",
    "copyList"
   ]
  },
  {
   "cell_type": "code",
   "execution_count": 67,
   "id": "0219e8a4",
   "metadata": {},
   "outputs": [
    {
     "name": "stdout",
     "output_type": "stream",
     "text": [
      "count of 2 in give list is : 4  \n",
      "count of 3 in give list is : 1  \n",
      "count of 4 in give list is : 1  \n",
      "count of 5 in give list is : 2  \n",
      "count of 6 in give list is : 5  \n",
      "count of 7 in give list is : 1  \n",
      "count of 8 in give list is : 1  \n",
      "count of r in give list is : 1  \n",
      "count of s in give list is : 1  \n"
     ]
    }
   ],
   "source": [
    "#Write a Python program to Count occurrences of an element in a list?\n",
    "list1=[3,5,6,6,6,6,2,2,2,2,4,5,6,7,8,'s','r']\n",
    "s=set(list1)\n",
    "for i in s:\n",
    "   print(\"count of {n} in give list is : {s}  \".format(n=i,s=list1.count(i)))"
   ]
  }
 ],
 "metadata": {
  "kernelspec": {
   "display_name": "Python 3 (ipykernel)",
   "language": "python",
   "name": "python3"
  },
  "language_info": {
   "codemirror_mode": {
    "name": "ipython",
    "version": 3
   },
   "file_extension": ".py",
   "mimetype": "text/x-python",
   "name": "python",
   "nbconvert_exporter": "python",
   "pygments_lexer": "ipython3",
   "version": "3.10.2"
  }
 },
 "nbformat": 4,
 "nbformat_minor": 5
}
