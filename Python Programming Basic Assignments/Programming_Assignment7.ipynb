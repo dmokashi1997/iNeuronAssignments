{
 "cells": [
  {
   "cell_type": "markdown",
   "id": "6816c751",
   "metadata": {},
   "source": [
    "1. Write a Python Program to find sum of array?\n",
    "2. Write a Python Program to find largest element in an array?\n",
    "3. Write a Python Program for array rotation?\n",
    "4. Write a Python Program to Split the array and add the first part to the end?\n",
    "5. Write a Python Program to check if given array is Monotonic?"
   ]
  },
  {
   "cell_type": "code",
   "execution_count": 8,
   "id": "0c702430",
   "metadata": {},
   "outputs": [
    {
     "name": "stdout",
     "output_type": "stream",
     "text": [
      "sum of elements from given array :  21\n"
     ]
    }
   ],
   "source": [
    "# Write a Python Program to find sum of array?\n",
    "arr=[1,2,3,4,5,6]\n",
    "print(\"sum of elements from given array : \",sum(arr))"
   ]
  },
  {
   "cell_type": "code",
   "execution_count": 10,
   "id": "0793c3b9",
   "metadata": {},
   "outputs": [
    {
     "name": "stdout",
     "output_type": "stream",
     "text": [
      "Maximum number  from given array :  6\n"
     ]
    }
   ],
   "source": [
    "# Write a Python Program to find largest element in an array?\n",
    "arr=[1,2,3,4,5,6]\n",
    "print(\"Maximum number  from given array : \",max(arr))\n",
    "    "
   ]
  },
  {
   "cell_type": "code",
   "execution_count": 36,
   "id": "29633cd2",
   "metadata": {},
   "outputs": [
    {
     "name": "stdout",
     "output_type": "stream",
     "text": [
      "After rotating for 3 time array will be [4, 5, 1, 2, 3]\n"
     ]
    }
   ],
   "source": [
    "# Write a Python Program for array rotation?\n",
    "def rotateArr(arr,n):\n",
    "    arrToBeMerged=[]\n",
    "    endarr=[]\n",
    "    for i in range(0,n):\n",
    "        arrToBeMerged.append(arr[i])\n",
    "    for i in range(n,len(arr)):\n",
    "        endarr.append(arr[i])\n",
    "    return endarr+arrToBeMerged\n",
    "arr=[1,2,3,4,5]\n",
    "n=3\n",
    "arrR=rotateArr(arr,n)\n",
    "print(\"After rotating for {n} time array will be {arr}\".format(n=n, arr=arrR))"
   ]
  },
  {
   "cell_type": "code",
   "execution_count": 15,
   "id": "47c52725",
   "metadata": {},
   "outputs": [
    {
     "data": {
      "text/plain": [
       "[4, 5, 1, 2, 3]"
      ]
     },
     "execution_count": 15,
     "metadata": {},
     "output_type": "execute_result"
    }
   ],
   "source": [
    "# Write a Python Program to Split the array and add the first part to the end?\n",
    "def split_merge(a,splitpoint):\n",
    "    arrToBeMerged=[]\n",
    "    endarr=[]\n",
    "    for i in range(0,splitpoint):\n",
    "        arrToBeMerged.append(a[i])\n",
    "    for i in range(splitpoint,len(a)):\n",
    "        endarr.append(a[i])\n",
    "    return endarr+arrToBeMerged\n",
    "split_merge([1,2,3,4,5],3)"
   ]
  },
  {
   "cell_type": "code",
   "execution_count": 27,
   "id": "b498fe3e",
   "metadata": {},
   "outputs": [
    {
     "name": "stdout",
     "output_type": "stream",
     "text": [
      "Monotonic in decreasing order\n"
     ]
    }
   ],
   "source": [
    "# Write a Python Program to check if given array is Monotonic?\n",
    "arr=[10,8,7,6,5]\n",
    "inc=[]\n",
    "dec=[]\n",
    "for i in range(0,len(arr)):\n",
    "    if i==0:\n",
    "        inc.append(True)\n",
    "        dec.append(True)\n",
    "    elif(i==len(arr)-1):\n",
    "        break\n",
    "    else:\n",
    "        if arr[i]<arr[i+1]:\n",
    "            inc.append(True)\n",
    "            dec.append(False)\n",
    "        if arr[i]>arr[i+1]:\n",
    "            dec.append(True)\n",
    "            inc.append(False)\n",
    "\n",
    "if inc.count(True)==len(inc):\n",
    "    print(\"Monotonic in increasing order\")\n",
    "elif dec.count(True)==len(dec):\n",
    "    print(\"Monotonic in decreasing order\")\n",
    "else:\n",
    "    print(\"Not a monotonic array\")"
   ]
  },
  {
   "cell_type": "code",
   "execution_count": null,
   "id": "d36febc8",
   "metadata": {},
   "outputs": [],
   "source": []
  }
 ],
 "metadata": {
  "kernelspec": {
   "display_name": "Python 3 (ipykernel)",
   "language": "python",
   "name": "python3"
  },
  "language_info": {
   "codemirror_mode": {
    "name": "ipython",
    "version": 3
   },
   "file_extension": ".py",
   "mimetype": "text/x-python",
   "name": "python",
   "nbconvert_exporter": "python",
   "pygments_lexer": "ipython3",
   "version": "3.10.2"
  }
 },
 "nbformat": 4,
 "nbformat_minor": 5
}
