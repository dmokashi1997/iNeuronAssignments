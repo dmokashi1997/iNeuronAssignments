{
 "cells": [
  {
   "cell_type": "code",
   "execution_count": 10,
   "id": "17f82694",
   "metadata": {},
   "outputs": [
    {
     "name": "stdout",
     "output_type": "stream",
     "text": [
      "Distance in Km :  2\n",
      "After conversion distance in miles  :  1.2428\n"
     ]
    }
   ],
   "source": [
    "## WAP  to convert kilometers to miles\n",
    "def convertKmToMil(km):\n",
    "    print(\"Distance in Km : \",km)\n",
    "    return km*0.6214\n",
    "print(\"After conversion distance in miles  : \", convertKmToMil(2))"
   ]
  },
  {
   "cell_type": "code",
   "execution_count": 9,
   "id": "5315b5b2",
   "metadata": {},
   "outputs": [
    {
     "name": "stdout",
     "output_type": "stream",
     "text": [
      "Temperature in celcius :  3\n",
      "After conversion temperature in fahrenheit :  37.4\n"
     ]
    }
   ],
   "source": [
    "## convert Celsius to Fahrenheit?\n",
    "\n",
    "def convertCelToFah(celTemp):\n",
    "    print(\"Temperature in celcius : \",celTemp)\n",
    "    return celTemp*(9/5)+32\n",
    "print(\"After conversion temperature in fahrenheit : \",convertCelToFah(3))\n"
   ]
  },
  {
   "cell_type": "code",
   "execution_count": 25,
   "id": "7cf0c9ef",
   "metadata": {},
   "outputs": [
    {
     "name": "stdout",
     "output_type": "stream",
     "text": [
      "     March 2022\n",
      "Mo Tu We Th Fr Sa Su\n",
      "    1  2  3  4  5  6\n",
      " 7  8  9 10 11 12 13\n",
      "14 15 16 17 18 19 20\n",
      "21 22 23 24 25 26 27\n",
      "28 29 30 31\n",
      "\n"
     ]
    }
   ],
   "source": [
    "## WAP to display calendar?\n",
    "import calendar\n",
    "\n",
    "def calendarPrint(year,month):\n",
    "    print(calendar.month(int(year),int(month)))\n",
    "    \n",
    "calendarPrint(2022,3)\n",
    "\n",
    "\n",
    "\n"
   ]
  },
  {
   "cell_type": "code",
   "execution_count": 38,
   "id": "80705e6e",
   "metadata": {},
   "outputs": [
    {
     "name": "stdout",
     "output_type": "stream",
     "text": [
      "Roots of quadratic equations :  (-2.0, -3.0)\n",
      "Roots of quadratic equations :  (1.0, -4.0)\n"
     ]
    }
   ],
   "source": [
    "## WAP to solve quadratic equation\n",
    "import math\n",
    "## x=-b+-sqrt(b2-4ac)/2a\n",
    "def quadEquation(a,b,c):\n",
    "    root1=((-b)+(math.sqrt(b*b-(4*a*c))))/(2*a)\n",
    "    root2=((-b)-(math.sqrt(b*b-(4*a*c))))/(2*a)\n",
    "    return root1,root2\n",
    "\n",
    "print(\"Roots of quadratic equations : \",quadEquation(1,5,6))\n",
    "print(\"Roots of quadratic equations : \",quadEquation(1,3,-4))\n"
   ]
  },
  {
   "cell_type": "code",
   "execution_count": 31,
   "id": "eb094195",
   "metadata": {},
   "outputs": [
    {
     "name": "stdout",
     "output_type": "stream",
     "text": [
      "Before swapping :  (7, 5)\n",
      "After Swapping :  (5, 7)\n"
     ]
    }
   ],
   "source": [
    "## WAP to swap two variables without temp variable\n",
    "def swapnumbers(a,b):\n",
    "    print(\"Before swapping : \",(a,b))\n",
    "    a=a+b\n",
    "    b=a-b\n",
    "    a=a-b\n",
    "    return a,b\n",
    "print(\"After Swapping : \",swapnumbers(7,5))"
   ]
  }
 ],
 "metadata": {
  "kernelspec": {
   "display_name": "Python 3 (ipykernel)",
   "language": "python",
   "name": "python3"
  },
  "language_info": {
   "codemirror_mode": {
    "name": "ipython",
    "version": 3
   },
   "file_extension": ".py",
   "mimetype": "text/x-python",
   "name": "python",
   "nbconvert_exporter": "python",
   "pygments_lexer": "ipython3",
   "version": "3.10.2"
  }
 },
 "nbformat": 4,
 "nbformat_minor": 5
}
