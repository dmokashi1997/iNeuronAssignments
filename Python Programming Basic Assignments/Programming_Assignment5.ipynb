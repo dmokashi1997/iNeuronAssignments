{
 "cells": [
  {
   "cell_type": "code",
   "execution_count": 9,
   "id": "7d2ee819",
   "metadata": {},
   "outputs": [
    {
     "name": "stdout",
     "output_type": "stream",
     "text": [
      "LCM of given nos is 276\n",
      "LCM of given nos is 420\n"
     ]
    }
   ],
   "source": [
    "# 1. Write a Python Program to Find LCM?\n",
    "def lcm(x, y):\n",
    "   if x > y:\n",
    "       g = x\n",
    "   else:\n",
    "       g = y\n",
    "   while(True):\n",
    "       if((g % x == 0) and (g % y == 0)):\n",
    "           lcm = g\n",
    "           break\n",
    "       g += 1\n",
    "   return lcm\n",
    "print(\"LCM of given nos is\", lcm(12, 23))\n",
    "print(\"LCM of given nos is\", lcm(15, 28))"
   ]
  },
  {
   "cell_type": "code",
   "execution_count": 8,
   "id": "aaa20b89",
   "metadata": {},
   "outputs": [
    {
     "name": "stdout",
     "output_type": "stream",
     "text": [
      "HCF of given no is 1\n",
      "HCF of given no is 3\n"
     ]
    }
   ],
   "source": [
    "# Write a Python Program to Find HCF?\n",
    "def hcf(x, y):\n",
    "    if x > y:\n",
    "        s = y\n",
    "    else:\n",
    "        s = x\n",
    "    for i in range(1, s+1):\n",
    "        if((x % i == 0) and (y % i == 0)):\n",
    "            hcf = i \n",
    "    return hcf\n",
    "print(\"HCF of given no is\",hcf(12, 25))\n",
    "print(\"HCF of given no is\",hcf(12, 27))"
   ]
  },
  {
   "cell_type": "code",
   "execution_count": 10,
   "id": "595856b4",
   "metadata": {},
   "outputs": [
    {
     "name": "stdout",
     "output_type": "stream",
     "text": [
      "decimal to binary : 0b1111011\n",
      "decimal to octal : 0o173\n",
      "decimal to hexadecimal : 0x7b\n"
     ]
    }
   ],
   "source": [
    "# Write a Python Program to Convert Decimal to Binary, Octal and Hexadecimal?\n",
    "number = 123\n",
    "print(\"decimal to binary :\",bin(number))\n",
    "print(\"decimal to octal :\",oct(number))\n",
    "print(\"decimal to hexadecimal :\",hex(number))\n"
   ]
  },
  {
   "cell_type": "code",
   "execution_count": 19,
   "id": "3f987a6c",
   "metadata": {},
   "outputs": [
    {
     "name": "stdout",
     "output_type": "stream",
     "text": [
      "Ascii of given no :  50\n",
      "Ascii of given no :  97\n",
      "Ascii of given no :  65\n"
     ]
    }
   ],
   "source": [
    "# Write a Python Program To Find ASCII value of a character?\n",
    "def ascii_val(n):\n",
    "    print(\"Ascii of given no : \",ord(n))\n",
    "ascii_val('2')\n",
    "ascii_val('a')\n",
    "ascii_val('A')"
   ]
  },
  {
   "cell_type": "code",
   "execution_count": 32,
   "id": "d693b38a",
   "metadata": {},
   "outputs": [
    {
     "name": "stdout",
     "output_type": "stream",
     "text": [
      "enter choice from +,-,*,//\n",
      "enter number1  5\n",
      "enter number2  2\n",
      "Division is : 2.5\n"
     ]
    }
   ],
   "source": [
    "# Write a Python Program to Make a Simple Calculator with 4 basic mathematical operations?\n",
    "def add():\n",
    "    a=int(input(\"enter number1  \"))\n",
    "    b=int(input(\"enter number2  \"))\n",
    "    return a+b\n",
    "def sub():\n",
    "    a=int(input(\"enter number1  \"))\n",
    "    b=int(input(\"enter number2  \"))\n",
    "    return a-b\n",
    "def mul():\n",
    "    a=int(input(\"enter number1  \"))\n",
    "    b=int(input(\"enter number2  \"))\n",
    "    return a*b\n",
    "def div():\n",
    "    a=int(input(\"enter number1  \"))\n",
    "    b=int(input(\"enter number2  \"))\n",
    "    try:\n",
    "        return a/b\n",
    "    except Exception:\n",
    "        print(\"Zero division exception\")\n",
    "\n",
    "op=input(\"enter choice from +,-,*,/\")\n",
    "if(op=='+'):\n",
    "    a=add()\n",
    "    print(\"Addition is :\",a)\n",
    "if (op=='-'):\n",
    "    s=sub()\n",
    "    print(\"subtration is :\",s)\n",
    "if(op=='*'):\n",
    "    m=mul()\n",
    "    print(\"multiplication is :\",m)\n",
    "if(op=='/'):\n",
    "    d=div()\n",
    "    print(\"Division is :\",d)\n",
    "\n",
    "        \n",
    "\n",
    "\n"
   ]
  }
 ],
 "metadata": {
  "kernelspec": {
   "display_name": "Python 3 (ipykernel)",
   "language": "python",
   "name": "python3"
  },
  "language_info": {
   "codemirror_mode": {
    "name": "ipython",
    "version": 3
   },
   "file_extension": ".py",
   "mimetype": "text/x-python",
   "name": "python",
   "nbconvert_exporter": "python",
   "pygments_lexer": "ipython3",
   "version": "3.10.2"
  }
 },
 "nbformat": 4,
 "nbformat_minor": 5
}
