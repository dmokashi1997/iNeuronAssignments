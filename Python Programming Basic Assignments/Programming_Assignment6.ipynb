{
 "cells": [
  {
   "cell_type": "markdown",
   "id": "73d15f07",
   "metadata": {},
   "source": [
    "1. Write a Python Program to Display Fibonacci Sequence Using Recursion?\n",
    "2. Write a Python Program to Find Factorial of Number Using Recursion?\n",
    "3. Write a Python Program to calculate your Body Mass Index?\n",
    "4. Write a Python Program to calculate the natural logarithm of any number?\n",
    "5. Write a Python Program for cube sum of first n natural numbers?"
   ]
  },
  {
   "cell_type": "code",
   "execution_count": null,
   "id": "6e496efa",
   "metadata": {},
   "outputs": [],
   "source": [
    "# Write a Python Program to Display Fibonacci Sequence Using Recursion?\n",
    "def fibonacci(n):\n",
    "    if n==1:\n",
    "        return 1\n",
    "    sum=n+fibonacci(n-1)\n",
    "    return sum\n",
    "\n",
    "print(\"Fibonacci sequence\",fibonacci(4))\n",
    "print(\"Fibonacci sequence\",fibonacci(5))\n",
    "print(\"Fibonacci sequence\",fibonacci(6))\n",
    "\n"
   ]
  },
  {
   "cell_type": "code",
   "execution_count": null,
   "id": "391f08a5",
   "metadata": {},
   "outputs": [],
   "source": [
    "#Write a Python Program to Find Factorial of Number Using Recursion?\n",
    "def factorial(n):\n",
    "    if n==1:\n",
    "        return 1\n",
    "    fact=n*factorial(n-1)\n",
    "    return fact\n",
    "print(\"factorial of given number : \",factorial(4))"
   ]
  },
  {
   "cell_type": "code",
   "execution_count": 6,
   "id": "2ebc3bbc",
   "metadata": {},
   "outputs": [
    {
     "name": "stdout",
     "output_type": "stream",
     "text": [
      "BMI :  23.80540166204986\n"
     ]
    }
   ],
   "source": [
    "# 3. Write a Python Program to calculate your Body Mass Index?\n",
    "#Bodyweight in kilograms divided by height in meters squared.\n",
    "def bmi(height,weight):\n",
    "    return weight/(height**2)\n",
    "\n",
    "bmi=bmi(1.52,55)\n",
    "print(\"BMI : \",bmi)\n",
    "    "
   ]
  },
  {
   "cell_type": "code",
   "execution_count": 10,
   "id": "b919e865",
   "metadata": {},
   "outputs": [
    {
     "name": "stdout",
     "output_type": "stream",
     "text": [
      "Log value for given number :  1.0986122886681098\n"
     ]
    }
   ],
   "source": [
    "# Write a Python Program to calculate the natural logarithm of any number?\n",
    "import math\n",
    "def find_log(n):\n",
    "    return math.log(n)\n",
    "\n",
    "print(\"Log value for given number : \",find_log(3))"
   ]
  },
  {
   "cell_type": "code",
   "execution_count": 19,
   "id": "8abb11df",
   "metadata": {},
   "outputs": [
    {
     "name": "stdout",
     "output_type": "stream",
     "text": [
      "sum of cube of n antural no :  100.0\n"
     ]
    }
   ],
   "source": [
    "# Write a Python Program for cube sum of first n natural numbers?\n",
    "def sum_cube(n):\n",
    "    # we will use general formula n**2(n+1)**2/4\n",
    "    nsquare=n**2\n",
    "    n_1=(n+1)**2\n",
    "    return (nsquare*n_1)/4\n",
    "print(\"sum of cube of n antural no : \",sum_cube(4))"
   ]
  }
 ],
 "metadata": {
  "kernelspec": {
   "display_name": "Python 3 (ipykernel)",
   "language": "python",
   "name": "python3"
  },
  "language_info": {
   "codemirror_mode": {
    "name": "ipython",
    "version": 3
   },
   "file_extension": ".py",
   "mimetype": "text/x-python",
   "name": "python",
   "nbconvert_exporter": "python",
   "pygments_lexer": "ipython3",
   "version": "3.10.2"
  }
 },
 "nbformat": 4,
 "nbformat_minor": 5
}
