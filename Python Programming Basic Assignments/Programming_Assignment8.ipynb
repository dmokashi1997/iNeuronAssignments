{
 "cells": [
  {
   "cell_type": "markdown",
   "id": "7df85c40",
   "metadata": {},
   "source": [
    "1. Write a Python Program to Add Two Matrices?\n",
    "2. Write a Python Program to Multiply Two Matrices?\n",
    "3. Write a Python Program to Transpose a Matrix?\n",
    "4. Write a Python Program to Sort Words in Alphabetic Order?\n",
    "5. Write a Python Program to Remove Punctuation From a String?"
   ]
  },
  {
   "cell_type": "code",
   "execution_count": 20,
   "id": "9bd17bbd",
   "metadata": {},
   "outputs": [
    {
     "name": "stdout",
     "output_type": "stream",
     "text": [
      "Result matrix after addition\n",
      "-----------------------------------------------\n",
      "[[ 2  4 11]\n",
      " [ 3  6  9]\n",
      " [15 12 14]]\n"
     ]
    }
   ],
   "source": [
    "# Write a Python Program to Add Two Matrices?\n",
    "import numpy as np\n",
    "mat1=np.matrix([[1,2,3],[1,3,5],[5,6,7]])\n",
    "mat2=np.matrix([[1,2,8],[2,3,4],[10,6,7]])\n",
    "print(\"Result matrix after addition\")\n",
    "print(\"-----------------------------------------------\")\n",
    "print(mat1+mat2)"
   ]
  },
  {
   "cell_type": "code",
   "execution_count": 21,
   "id": "898a147b",
   "metadata": {},
   "outputs": [
    {
     "name": "stdout",
     "output_type": "stream",
     "text": [
      "Result matrix after multiplication \n",
      "-----------------------------------------------\n",
      "[[ 35  26  37]\n",
      " [ 57  41  55]\n",
      " [ 87  70 113]]\n"
     ]
    }
   ],
   "source": [
    "# Write a Python Program to Multiply Two Matrices?\n",
    "print(\"Result matrix after multiplication \")\n",
    "print(\"-----------------------------------------------\")\n",
    "print(mat1*mat2)"
   ]
  },
  {
   "cell_type": "code",
   "execution_count": 11,
   "id": "9e3b21f5",
   "metadata": {},
   "outputs": [
    {
     "name": "stdout",
     "output_type": "stream",
     "text": [
      "Original matrix\n",
      "[[1 2 3]\n",
      " [1 3 5]\n",
      " [5 6 7]]\n",
      "-------------------------------------------------\n",
      "Matrix after transpose\n",
      "[[1 1 5]\n",
      " [2 3 6]\n",
      " [3 5 7]]\n"
     ]
    }
   ],
   "source": [
    "#Write a Python Program to Transpose a Matrix?\n",
    "print(\"Original matrix\")\n",
    "print(mat1)\n",
    "print(\"-------------------------------------------------\")\n",
    "print(\"Matrix after transpose\")\n",
    "print(mat1.transpose())"
   ]
  },
  {
   "cell_type": "code",
   "execution_count": 38,
   "id": "6aa39308",
   "metadata": {},
   "outputs": [
    {
     "name": "stdout",
     "output_type": "stream",
     "text": [
      "conutry\n",
      "india\n",
      "is\n",
      "my\n"
     ]
    }
   ],
   "source": [
    "# Write a Python Program to Sort Words in Alphabetic Order?\n",
    "str1=\"india is my conutry\"\n",
    "l=str1.split()\n",
    "l.sort()\n",
    "for i in l:\n",
    "    print(i)"
   ]
  },
  {
   "cell_type": "code",
   "execution_count": 44,
   "id": "0727a0d7",
   "metadata": {},
   "outputs": [
    {
     "data": {
      "text/plain": [
       "'india is  my country'"
      ]
     },
     "execution_count": 44,
     "metadata": {},
     "output_type": "execute_result"
    }
   ],
   "source": [
    "# Write a Python Program to Remove Punctuation From a String?\n",
    "str1=\"india@ is#$% )_ my co*untry\"\n",
    "specialChars='''~!@#$%^&*()_{}[];:'\"\\/<>.?'-'''\n",
    "for i in str1:\n",
    "    if i in specialChars:\n",
    "        str1=str1.replace(i,\"\")\n",
    "str1"
   ]
  }
 ],
 "metadata": {
  "kernelspec": {
   "display_name": "Python 3 (ipykernel)",
   "language": "python",
   "name": "python3"
  },
  "language_info": {
   "codemirror_mode": {
    "name": "ipython",
    "version": 3
   },
   "file_extension": ".py",
   "mimetype": "text/x-python",
   "name": "python",
   "nbconvert_exporter": "python",
   "pygments_lexer": "ipython3",
   "version": "3.10.2"
  }
 },
 "nbformat": 4,
 "nbformat_minor": 5
}
